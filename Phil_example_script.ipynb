
from Bio import SeqIO
import re
import pandas as pd
from collections import Counter


gly = re.compile('N[A-O,Q-Z][S,T]') # Regular expression for PNGS
potential_glycosylation_sites = [87,
                                 269,
                                 162,
                                 127,
                                 160,
                                 155,
                                 125,
                                 54,
                                 73] # List of "known" PNGS sites, not strictly necessary. These positions are indexed such that position 1 is the first residue after the leader sequence.
new_rows = []
for s in SeqIO.parse('../data/sequences/GISAID/H1N1_HA_GISAID.fasta', 'fasta'):

    # Split the description string up to get collection date, year, and strain name
    collection_date = s.description.split(' | ')[2]
    year = collection_date.split('-')[0].split()[0]
    strain = s.description.split(' | ')[1] 
    
    # Variable to skip a sequence if the year of isolation is unknown, or if sequence isn't full-length
    skip = False
    
    if len(s) == 565: 
        # If sequence is 565 residues long, then we don't need to worry about the insertion
        leader_trunc = s[17:] # Remove the leader sequence
    elif len(s) == 566: 
        # If it's 566 residues long, then we just remove the inserted residue. 
        #More robust to pre-align the sequences.
        HA_trunc = s[17:]
        leader_trunc = HA_trunc[0:130] + HA_trunc[130:344]
    else: 
        # Skip if not full-length
        skip=True

    if year == 'unknown':
        # Skip if year is unknown
        skip =True
    
    if not skip:
        g = 0
        glycosylated_sites = []
        for m in gly.finditer(str(leader_trunc.seq)):
            # This loop iterates over every potential PNGS found by the regex
            pos = m.start() 
            if pos + 1 in potential_glycosylation_sites: # Remember that python indexes from 0
                glycosylated_sites.append(str(pos+1))
        glycosylated_sites.sort()
        new_rows.append([strain, int(year), collection_date, ','.join(glycosylated_sites)])

df = pd.DataFrame(new_rows, columns=['Strain', 'Year', 'Collection date', 'Glycosylated sites'])
df